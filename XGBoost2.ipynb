{
  "nbformat": 4,
  "nbformat_minor": 0,
  "metadata": {
    "colab": {
      "provenance": [],
      "machine_shape": "hm",
      "authorship_tag": "ABX9TyObaRbjo/lDf2Kig/IY30wI",
      "include_colab_link": true
    },
    "kernelspec": {
      "name": "python3",
      "display_name": "Python 3"
    },
    "language_info": {
      "name": "python"
    },
    "accelerator": "GPU",
    "gpuClass": "premium"
  },
  "cells": [
    {
      "cell_type": "markdown",
      "metadata": {
        "id": "view-in-github",
        "colab_type": "text"
      },
      "source": [
        "<a href=\"https://colab.research.google.com/github/GabrielWu2004/Numerai/blob/main/XGBoost2.ipynb\" target=\"_parent\"><img src=\"https://colab.research.google.com/assets/colab-badge.svg\" alt=\"Open In Colab\"/></a>"
      ]
    },
    {
      "cell_type": "code",
      "source": [
        "pip install numerapi"
      ],
      "metadata": {
        "colab": {
          "base_uri": "https://localhost:8080/"
        },
        "id": "702aFSLTVDiH",
        "outputId": "42cc9ad8-9b42-4787-8534-ca9d74c98b86"
      },
      "execution_count": 1,
      "outputs": [
        {
          "output_type": "stream",
          "name": "stdout",
          "text": [
            "Looking in indexes: https://pypi.org/simple, https://us-python.pkg.dev/colab-wheels/public/simple/\n",
            "Requirement already satisfied: numerapi in /usr/local/lib/python3.8/dist-packages (2.13.0)\n",
            "Requirement already satisfied: python-dateutil in /usr/local/lib/python3.8/dist-packages (from numerapi) (2.8.2)\n",
            "Requirement already satisfied: pytz in /usr/local/lib/python3.8/dist-packages (from numerapi) (2022.7.1)\n",
            "Requirement already satisfied: tqdm>=4.29.1 in /usr/local/lib/python3.8/dist-packages (from numerapi) (4.64.1)\n",
            "Requirement already satisfied: requests in /usr/local/lib/python3.8/dist-packages (from numerapi) (2.25.1)\n",
            "Requirement already satisfied: click>=7.0 in /usr/local/lib/python3.8/dist-packages (from numerapi) (7.1.2)\n",
            "Requirement already satisfied: pandas>=1.1.0 in /usr/local/lib/python3.8/dist-packages (from numerapi) (1.3.5)\n",
            "Requirement already satisfied: numpy>=1.17.3 in /usr/local/lib/python3.8/dist-packages (from pandas>=1.1.0->numerapi) (1.21.6)\n",
            "Requirement already satisfied: six>=1.5 in /usr/local/lib/python3.8/dist-packages (from python-dateutil->numerapi) (1.15.0)\n",
            "Requirement already satisfied: chardet<5,>=3.0.2 in /usr/local/lib/python3.8/dist-packages (from requests->numerapi) (4.0.0)\n",
            "Requirement already satisfied: idna<3,>=2.5 in /usr/local/lib/python3.8/dist-packages (from requests->numerapi) (2.10)\n",
            "Requirement already satisfied: urllib3<1.27,>=1.21.1 in /usr/local/lib/python3.8/dist-packages (from requests->numerapi) (1.24.3)\n",
            "Requirement already satisfied: certifi>=2017.4.17 in /usr/local/lib/python3.8/dist-packages (from requests->numerapi) (2022.12.7)\n"
          ]
        }
      ]
    },
    {
      "cell_type": "code",
      "source": [
        "pip install halo"
      ],
      "metadata": {
        "colab": {
          "base_uri": "https://localhost:8080/"
        },
        "id": "vPKLGXw1VFbE",
        "outputId": "0c67ff7c-8b8b-4f54-dc71-14ef94411d93"
      },
      "execution_count": 2,
      "outputs": [
        {
          "output_type": "stream",
          "name": "stdout",
          "text": [
            "Looking in indexes: https://pypi.org/simple, https://us-python.pkg.dev/colab-wheels/public/simple/\n",
            "Requirement already satisfied: halo in /usr/local/lib/python3.8/dist-packages (0.0.31)\n",
            "Requirement already satisfied: colorama>=0.3.9 in /usr/local/lib/python3.8/dist-packages (from halo) (0.4.6)\n",
            "Requirement already satisfied: six>=1.12.0 in /usr/local/lib/python3.8/dist-packages (from halo) (1.15.0)\n",
            "Requirement already satisfied: spinners>=0.0.24 in /usr/local/lib/python3.8/dist-packages (from halo) (0.0.24)\n",
            "Requirement already satisfied: log-symbols>=0.0.14 in /usr/local/lib/python3.8/dist-packages (from halo) (0.0.14)\n",
            "Requirement already satisfied: termcolor>=1.1.0 in /usr/local/lib/python3.8/dist-packages (from halo) (2.2.0)\n"
          ]
        }
      ]
    },
    {
      "cell_type": "code",
      "execution_count": 3,
      "metadata": {
        "id": "Byr0VX8dUoVY"
      },
      "outputs": [],
      "source": [
        "from numerapi import NumerAPI\n",
        "from utils_plus import *\n",
        "import time\n",
        "import gc"
      ]
    },
    {
      "cell_type": "code",
      "source": [
        "from sklearn.model_selection import cross_val_score\n",
        "from sklearn.model_selection import train_test_split\n",
        "import xgboost as xgb\n",
        "from xgboost import XGBRegressor\n",
        "from sklearn.metrics import mean_squared_error, r2_score\n",
        "from sklearn.model_selection import GridSearchCV"
      ],
      "metadata": {
        "id": "EbPaovHNWlAa"
      },
      "execution_count": 4,
      "outputs": []
    },
    {
      "cell_type": "code",
      "source": [
        "napi = NumerAPI()\n",
        "spinner = Halo(text='', spinner='dots')\n",
        "current_round = napi.get_current_round(tournament=8)  \n",
        "\n",
        "download_data() # train_int8\n",
        "                # validations_int8\n",
        "                # features.json\n",
        "\n",
        "\n",
        "with open(\"./data/features.json\", \"r\") as f: # use with statement to read files is more convenient\n",
        "    feature_metadata = json.load(f)\n",
        "features = feature_metadata[\"feature_sets\"][\"medium\"]\n",
        "\n",
        "training_data, validation_data = read_learning_data(features)\n",
        "\n",
        "X = training_data.filter(like='feature_', axis='columns')\n",
        "y = training_data[TARGET_COL]\n",
        "\n",
        "X_test = validation_data.filter(like='feature_', axis='columns')\n",
        "y_test = validation_data[TARGET_COL]\n",
        "\n",
        "gc.collect()"
      ],
      "metadata": {
        "colab": {
          "base_uri": "https://localhost:8080/"
        },
        "id": "Eum-8U7RVuiK",
        "outputId": "0cec79d7-7057-443a-93be-ada37bd7c0cb"
      },
      "execution_count": 13,
      "outputs": [
        {
          "output_type": "stream",
          "name": "stdout",
          "text": [
            "Downloading dataset files...\n",
            "Done!\n",
            "Reading learning data...\n",
            "Done!\n"
          ]
        },
        {
          "output_type": "execute_result",
          "data": {
            "text/plain": [
              "16"
            ]
          },
          "metadata": {},
          "execution_count": 13
        }
      ]
    },
    {
      "cell_type": "code",
      "source": [
        "print(\"Feature data type:\", type(features)) # list\n",
        "print(\"Feature size:\", len(features)) # 472\n",
        "print(\"feature_metadata type:\", type(feature_metadata)) # dictionary\n",
        "print(\"keys in feature_metadata:\", feature_metadata.keys()) # 'feature_stats', 'feature_sets'\n",
        "print(\"keys in feature_sets:\", feature_metadata['feature_sets'].keys()) # 'small', 'medium', 'v2_equivalent_features', 'v3_equivalent_features', 'fncv3_features'"
      ],
      "metadata": {
        "colab": {
          "base_uri": "https://localhost:8080/"
        },
        "id": "SUbHBdpjPxzi",
        "outputId": "97f0a6b1-484e-4c37-be68-eb0d89b95177"
      },
      "execution_count": 14,
      "outputs": [
        {
          "output_type": "stream",
          "name": "stdout",
          "text": [
            "Feature data type: <class 'list'>\n",
            "Feature size: 472\n",
            "feature_metadata type: <class 'dict'>\n",
            "keys in feature_metadata: dict_keys(['feature_stats', 'feature_sets'])\n",
            "keys in feature_sets: dict_keys(['small', 'medium', 'v2_equivalent_features', 'v3_equivalent_features', 'fncv3_features'])\n"
          ]
        }
      ]
    },
    {
      "cell_type": "code",
      "source": [
        "print(X.shape)\n",
        "print(y.shape)\n",
        "print(X_test.shape)\n",
        "print(y_test.shape)"
      ],
      "metadata": {
        "colab": {
          "base_uri": "https://localhost:8080/"
        },
        "id": "gJw-bFtpcpPp",
        "outputId": "a8b71879-9444-4537-dcec-5c9510080ccc"
      },
      "execution_count": 16,
      "outputs": [
        {
          "output_type": "stream",
          "name": "stdout",
          "text": [
            "(2420521, 472)\n",
            "(2420521,)\n",
            "(2421740, 472)\n",
            "(2421740,)\n"
          ]
        }
      ]
    },
    {
      "cell_type": "code",
      "source": [
        "X_train, X_val, y_train, y_val = train_test_split(X, y, test_size = 0.1, shuffle=False)\n",
        "print(X_train.shape)\n",
        "print(y_train.shape)\n",
        "print(X_val.shape)\n",
        "print(y_val.shape)"
      ],
      "metadata": {
        "colab": {
          "base_uri": "https://localhost:8080/"
        },
        "id": "CPGmMW0WdNbn",
        "outputId": "7fd184ff-7439-42cf-c47d-f0b11893aa1b"
      },
      "execution_count": 30,
      "outputs": [
        {
          "output_type": "stream",
          "name": "stdout",
          "text": [
            "⠸ Training model(2178468, 472)\n",
            "(2178468,)\n",
            "(242053, 472)\n",
            "(242053,)\n",
            "⠴ Training model"
          ]
        }
      ]
    },
    {
      "cell_type": "code",
      "source": [
        "model_name = \"xgboost2\"\n",
        "model_path = \"\""
      ],
      "metadata": {
        "colab": {
          "base_uri": "https://localhost:8080/"
        },
        "id": "ejZIoRezenkJ",
        "outputId": "10f44638-4564-4474-a40a-4a9fe78d74ec"
      },
      "execution_count": 31,
      "outputs": [
        {
          "output_type": "stream",
          "name": "stdout",
          "text": [
            "⠸ Training model"
          ]
        }
      ]
    },
    {
      "cell_type": "code",
      "source": [
        "params = {\"n_estimators\": 1000,\n",
        "          \"learning_rate\": 0.01,\n",
        "          \"max_depth\": 10,\n",
        "          \"gamma\": 0.5, # pruning\n",
        "          \"reg_lambda\": 1, # regularization\n",
        "          }\n",
        "\n",
        "model = XGBRegressor(objective='reg:squarederror', tree_method='gpu_hist', gpu_id=0, **params)\n",
        "\n",
        "# training and saving the model\n",
        "# model name and model paths are defined in earlier cells\n",
        "\n",
        "if not model_path:\n",
        "    spinner.start('Training model')\n",
        "    model.fit(X_train, y_train)\n",
        "    spinner.succeed()\n",
        "    gc.collect()\n",
        "    spinner.start('Saving model')\n",
        "    model.save_model(f'models/xgboost/{model_name}.txt')\n",
        "    spinner.succeed()\n",
        "else:\n",
        "    model = xgb.Booster(model_file=model_path)\n",
        "    print(f'Model successfully read from {model_path}\\n')"
      ],
      "metadata": {
        "colab": {
          "base_uri": "https://localhost:8080/"
        },
        "id": "dhi-QYsqWypt",
        "outputId": "f71860c0-25cd-4522-8fbb-b87ba056fc3d"
      },
      "execution_count": 33,
      "outputs": [
        {
          "output_type": "stream",
          "name": "stdout",
          "text": [
            "✔ Training model\n",
            "✔ Saving model\n"
          ]
        }
      ]
    },
    {
      "cell_type": "code",
      "source": [
        "num_feature_neutralization = 50\n",
        "\n",
        "spinner.start('Predicting on validation data')\n",
        "validation_data.loc[:, f\"preds_{model_name}\"] = model.predict(X_test)\n",
        "spinner.succeed()\n",
        "gc.collect()\n",
        "\n",
        "spinner.start('Neutralizing to risky features')\n",
        "neutralize_riskiest_features(training_data, validation_data, features, model_name, k=num_feature_neutralization)\n",
        "spinner.succeed()\n",
        "\n",
        "gc.collect()\n",
        "\n",
        "print('Exporting Predictions to csv...')\n",
        "validation_data[\"prediction\"] = validation_data[f\"preds_{model_name}_neutral_riskiest_{num_feature_neutralization}\"].rank(pct=True)\n",
        "validation_data[\"prediction\"].to_csv(f\"predictions/xgboost/{model_name}.csv\")\n",
        "print('Done!')"
      ],
      "metadata": {
        "colab": {
          "base_uri": "https://localhost:8080/"
        },
        "id": "oa7dmQrhbIc8",
        "outputId": "9d3cbe20-a73f-4224-e564-92e6399b0db0"
      },
      "execution_count": 36,
      "outputs": [
        {
          "output_type": "stream",
          "name": "stdout",
          "text": [
            "✔ Predicting on validation data\n",
            "✔ Neutralizing to risky features\n",
            "Exporting Predictions to csv...\n",
            "Done!\n"
          ]
        }
      ]
    }
  ]
}